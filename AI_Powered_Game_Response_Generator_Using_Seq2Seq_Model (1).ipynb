{
  "nbformat": 4,
  "nbformat_minor": 0,
  "metadata": {
    "colab": {
      "provenance": []
    },
    "kernelspec": {
      "name": "python3",
      "display_name": "Python 3"
    },
    "language_info": {
      "name": "python"
    }
  },
  "cells": [
    {
      "cell_type": "markdown",
      "source": [
        "Project Name: **💡 AI-Powered Game Response Generator Using Seq2Seq Model! 🚀**"
      ],
      "metadata": {
        "id": "gejQJGbYhexr"
      }
    },
    {
      "cell_type": "markdown",
      "source": [
        "**Import Neccessary Libraries**"
      ],
      "metadata": {
        "id": "103DkY7ZJMEu"
      }
    },
    {
      "cell_type": "code",
      "execution_count": 120,
      "metadata": {
        "id": "6eNJQBouHIvM"
      },
      "outputs": [],
      "source": [
        "import numpy as np\n",
        "import pandas as pd\n",
        "import matplotlib.pyplot as plt\n",
        "import seaborn as sns\n",
        "import warnings\n",
        "warnings.filterwarnings('ignore')\n",
        "import json\n",
        "\n",
        "import networkx as nx\n",
        "\n",
        "import tensorflow as tf\n",
        "from tensorflow.keras.models import Model\n",
        "from tensorflow.keras.layers import Input, LSTM, Dense, Embedding\n",
        "from tensorflow.keras.preprocessing.text import Tokenizer\n",
        "from tensorflow.keras.preprocessing.sequence import pad_sequences\n",
        "from tensorflow.keras.utils import to_categorical"
      ]
    },
    {
      "cell_type": "markdown",
      "source": [
        "# Step 1: Load the Dataset"
      ],
      "metadata": {
        "id": "vnik8xSOOgdy"
      }
    },
    {
      "cell_type": "code",
      "source": [
        "# Load the Json Dataset\n",
        "with open('/content/seq2seq_game_data.json', 'r') as file:\n",
        "    game_data = json.load(file)"
      ],
      "metadata": {
        "id": "7LuNO95wHYmk"
      },
      "execution_count": 121,
      "outputs": []
    },
    {
      "cell_type": "code",
      "source": [
        "# Convert the Json dataset into dataframe\n",
        "df = pd.DataFrame(game_data)\n",
        "print('Dataset Sample')\n",
        "df.head()"
      ],
      "metadata": {
        "colab": {
          "base_uri": "https://localhost:8080/",
          "height": 224
        },
        "id": "rJJdM7PEH3qM",
        "outputId": "cb9948b3-728c-4873-da02-02b9f6f01ea7"
      },
      "execution_count": 122,
      "outputs": [
        {
          "output_type": "stream",
          "name": "stdout",
          "text": [
            "Dataset Sample\n"
          ]
        },
        {
          "output_type": "execute_result",
          "data": {
            "text/plain": [
              "    input                                           response  \\\n",
              "0   start  You wake up in a mysterious forest. Do you go ...   \n",
              "1    left  You find an old abandoned house. Do you 'enter...   \n",
              "2   right  You reach a river with a broken bridge. Do you...   \n",
              "3   enter  Inside the house, you see a staircase and a da...   \n",
              "4  ignore  You continue walking and find a cave. Do you '...   \n",
              "\n",
              "         next_options  \n",
              "0       [left, right]  \n",
              "1     [enter, ignore]  \n",
              "2   [swim, turn back]  \n",
              "3          [up, down]  \n",
              "4  [enter, walk past]  "
            ],
            "text/html": [
              "\n",
              "  <div id=\"df-95c5458a-04c5-4ebf-9b3e-bbfb781785f2\" class=\"colab-df-container\">\n",
              "    <div>\n",
              "<style scoped>\n",
              "    .dataframe tbody tr th:only-of-type {\n",
              "        vertical-align: middle;\n",
              "    }\n",
              "\n",
              "    .dataframe tbody tr th {\n",
              "        vertical-align: top;\n",
              "    }\n",
              "\n",
              "    .dataframe thead th {\n",
              "        text-align: right;\n",
              "    }\n",
              "</style>\n",
              "<table border=\"1\" class=\"dataframe\">\n",
              "  <thead>\n",
              "    <tr style=\"text-align: right;\">\n",
              "      <th></th>\n",
              "      <th>input</th>\n",
              "      <th>response</th>\n",
              "      <th>next_options</th>\n",
              "    </tr>\n",
              "  </thead>\n",
              "  <tbody>\n",
              "    <tr>\n",
              "      <th>0</th>\n",
              "      <td>start</td>\n",
              "      <td>You wake up in a mysterious forest. Do you go ...</td>\n",
              "      <td>[left, right]</td>\n",
              "    </tr>\n",
              "    <tr>\n",
              "      <th>1</th>\n",
              "      <td>left</td>\n",
              "      <td>You find an old abandoned house. Do you 'enter...</td>\n",
              "      <td>[enter, ignore]</td>\n",
              "    </tr>\n",
              "    <tr>\n",
              "      <th>2</th>\n",
              "      <td>right</td>\n",
              "      <td>You reach a river with a broken bridge. Do you...</td>\n",
              "      <td>[swim, turn back]</td>\n",
              "    </tr>\n",
              "    <tr>\n",
              "      <th>3</th>\n",
              "      <td>enter</td>\n",
              "      <td>Inside the house, you see a staircase and a da...</td>\n",
              "      <td>[up, down]</td>\n",
              "    </tr>\n",
              "    <tr>\n",
              "      <th>4</th>\n",
              "      <td>ignore</td>\n",
              "      <td>You continue walking and find a cave. Do you '...</td>\n",
              "      <td>[enter, walk past]</td>\n",
              "    </tr>\n",
              "  </tbody>\n",
              "</table>\n",
              "</div>\n",
              "    <div class=\"colab-df-buttons\">\n",
              "\n",
              "  <div class=\"colab-df-container\">\n",
              "    <button class=\"colab-df-convert\" onclick=\"convertToInteractive('df-95c5458a-04c5-4ebf-9b3e-bbfb781785f2')\"\n",
              "            title=\"Convert this dataframe to an interactive table.\"\n",
              "            style=\"display:none;\">\n",
              "\n",
              "  <svg xmlns=\"http://www.w3.org/2000/svg\" height=\"24px\" viewBox=\"0 -960 960 960\">\n",
              "    <path d=\"M120-120v-720h720v720H120Zm60-500h600v-160H180v160Zm220 220h160v-160H400v160Zm0 220h160v-160H400v160ZM180-400h160v-160H180v160Zm440 0h160v-160H620v160ZM180-180h160v-160H180v160Zm440 0h160v-160H620v160Z\"/>\n",
              "  </svg>\n",
              "    </button>\n",
              "\n",
              "  <style>\n",
              "    .colab-df-container {\n",
              "      display:flex;\n",
              "      gap: 12px;\n",
              "    }\n",
              "\n",
              "    .colab-df-convert {\n",
              "      background-color: #E8F0FE;\n",
              "      border: none;\n",
              "      border-radius: 50%;\n",
              "      cursor: pointer;\n",
              "      display: none;\n",
              "      fill: #1967D2;\n",
              "      height: 32px;\n",
              "      padding: 0 0 0 0;\n",
              "      width: 32px;\n",
              "    }\n",
              "\n",
              "    .colab-df-convert:hover {\n",
              "      background-color: #E2EBFA;\n",
              "      box-shadow: 0px 1px 2px rgba(60, 64, 67, 0.3), 0px 1px 3px 1px rgba(60, 64, 67, 0.15);\n",
              "      fill: #174EA6;\n",
              "    }\n",
              "\n",
              "    .colab-df-buttons div {\n",
              "      margin-bottom: 4px;\n",
              "    }\n",
              "\n",
              "    [theme=dark] .colab-df-convert {\n",
              "      background-color: #3B4455;\n",
              "      fill: #D2E3FC;\n",
              "    }\n",
              "\n",
              "    [theme=dark] .colab-df-convert:hover {\n",
              "      background-color: #434B5C;\n",
              "      box-shadow: 0px 1px 3px 1px rgba(0, 0, 0, 0.15);\n",
              "      filter: drop-shadow(0px 1px 2px rgba(0, 0, 0, 0.3));\n",
              "      fill: #FFFFFF;\n",
              "    }\n",
              "  </style>\n",
              "\n",
              "    <script>\n",
              "      const buttonEl =\n",
              "        document.querySelector('#df-95c5458a-04c5-4ebf-9b3e-bbfb781785f2 button.colab-df-convert');\n",
              "      buttonEl.style.display =\n",
              "        google.colab.kernel.accessAllowed ? 'block' : 'none';\n",
              "\n",
              "      async function convertToInteractive(key) {\n",
              "        const element = document.querySelector('#df-95c5458a-04c5-4ebf-9b3e-bbfb781785f2');\n",
              "        const dataTable =\n",
              "          await google.colab.kernel.invokeFunction('convertToInteractive',\n",
              "                                                    [key], {});\n",
              "        if (!dataTable) return;\n",
              "\n",
              "        const docLinkHtml = 'Like what you see? Visit the ' +\n",
              "          '<a target=\"_blank\" href=https://colab.research.google.com/notebooks/data_table.ipynb>data table notebook</a>'\n",
              "          + ' to learn more about interactive tables.';\n",
              "        element.innerHTML = '';\n",
              "        dataTable['output_type'] = 'display_data';\n",
              "        await google.colab.output.renderOutput(dataTable, element);\n",
              "        const docLink = document.createElement('div');\n",
              "        docLink.innerHTML = docLinkHtml;\n",
              "        element.appendChild(docLink);\n",
              "      }\n",
              "    </script>\n",
              "  </div>\n",
              "\n",
              "\n",
              "<div id=\"df-571bef72-e104-4845-be79-fd838783ae5d\">\n",
              "  <button class=\"colab-df-quickchart\" onclick=\"quickchart('df-571bef72-e104-4845-be79-fd838783ae5d')\"\n",
              "            title=\"Suggest charts\"\n",
              "            style=\"display:none;\">\n",
              "\n",
              "<svg xmlns=\"http://www.w3.org/2000/svg\" height=\"24px\"viewBox=\"0 0 24 24\"\n",
              "     width=\"24px\">\n",
              "    <g>\n",
              "        <path d=\"M19 3H5c-1.1 0-2 .9-2 2v14c0 1.1.9 2 2 2h14c1.1 0 2-.9 2-2V5c0-1.1-.9-2-2-2zM9 17H7v-7h2v7zm4 0h-2V7h2v10zm4 0h-2v-4h2v4z\"/>\n",
              "    </g>\n",
              "</svg>\n",
              "  </button>\n",
              "\n",
              "<style>\n",
              "  .colab-df-quickchart {\n",
              "      --bg-color: #E8F0FE;\n",
              "      --fill-color: #1967D2;\n",
              "      --hover-bg-color: #E2EBFA;\n",
              "      --hover-fill-color: #174EA6;\n",
              "      --disabled-fill-color: #AAA;\n",
              "      --disabled-bg-color: #DDD;\n",
              "  }\n",
              "\n",
              "  [theme=dark] .colab-df-quickchart {\n",
              "      --bg-color: #3B4455;\n",
              "      --fill-color: #D2E3FC;\n",
              "      --hover-bg-color: #434B5C;\n",
              "      --hover-fill-color: #FFFFFF;\n",
              "      --disabled-bg-color: #3B4455;\n",
              "      --disabled-fill-color: #666;\n",
              "  }\n",
              "\n",
              "  .colab-df-quickchart {\n",
              "    background-color: var(--bg-color);\n",
              "    border: none;\n",
              "    border-radius: 50%;\n",
              "    cursor: pointer;\n",
              "    display: none;\n",
              "    fill: var(--fill-color);\n",
              "    height: 32px;\n",
              "    padding: 0;\n",
              "    width: 32px;\n",
              "  }\n",
              "\n",
              "  .colab-df-quickchart:hover {\n",
              "    background-color: var(--hover-bg-color);\n",
              "    box-shadow: 0 1px 2px rgba(60, 64, 67, 0.3), 0 1px 3px 1px rgba(60, 64, 67, 0.15);\n",
              "    fill: var(--button-hover-fill-color);\n",
              "  }\n",
              "\n",
              "  .colab-df-quickchart-complete:disabled,\n",
              "  .colab-df-quickchart-complete:disabled:hover {\n",
              "    background-color: var(--disabled-bg-color);\n",
              "    fill: var(--disabled-fill-color);\n",
              "    box-shadow: none;\n",
              "  }\n",
              "\n",
              "  .colab-df-spinner {\n",
              "    border: 2px solid var(--fill-color);\n",
              "    border-color: transparent;\n",
              "    border-bottom-color: var(--fill-color);\n",
              "    animation:\n",
              "      spin 1s steps(1) infinite;\n",
              "  }\n",
              "\n",
              "  @keyframes spin {\n",
              "    0% {\n",
              "      border-color: transparent;\n",
              "      border-bottom-color: var(--fill-color);\n",
              "      border-left-color: var(--fill-color);\n",
              "    }\n",
              "    20% {\n",
              "      border-color: transparent;\n",
              "      border-left-color: var(--fill-color);\n",
              "      border-top-color: var(--fill-color);\n",
              "    }\n",
              "    30% {\n",
              "      border-color: transparent;\n",
              "      border-left-color: var(--fill-color);\n",
              "      border-top-color: var(--fill-color);\n",
              "      border-right-color: var(--fill-color);\n",
              "    }\n",
              "    40% {\n",
              "      border-color: transparent;\n",
              "      border-right-color: var(--fill-color);\n",
              "      border-top-color: var(--fill-color);\n",
              "    }\n",
              "    60% {\n",
              "      border-color: transparent;\n",
              "      border-right-color: var(--fill-color);\n",
              "    }\n",
              "    80% {\n",
              "      border-color: transparent;\n",
              "      border-right-color: var(--fill-color);\n",
              "      border-bottom-color: var(--fill-color);\n",
              "    }\n",
              "    90% {\n",
              "      border-color: transparent;\n",
              "      border-bottom-color: var(--fill-color);\n",
              "    }\n",
              "  }\n",
              "</style>\n",
              "\n",
              "  <script>\n",
              "    async function quickchart(key) {\n",
              "      const quickchartButtonEl =\n",
              "        document.querySelector('#' + key + ' button');\n",
              "      quickchartButtonEl.disabled = true;  // To prevent multiple clicks.\n",
              "      quickchartButtonEl.classList.add('colab-df-spinner');\n",
              "      try {\n",
              "        const charts = await google.colab.kernel.invokeFunction(\n",
              "            'suggestCharts', [key], {});\n",
              "      } catch (error) {\n",
              "        console.error('Error during call to suggestCharts:', error);\n",
              "      }\n",
              "      quickchartButtonEl.classList.remove('colab-df-spinner');\n",
              "      quickchartButtonEl.classList.add('colab-df-quickchart-complete');\n",
              "    }\n",
              "    (() => {\n",
              "      let quickchartButtonEl =\n",
              "        document.querySelector('#df-571bef72-e104-4845-be79-fd838783ae5d button');\n",
              "      quickchartButtonEl.style.display =\n",
              "        google.colab.kernel.accessAllowed ? 'block' : 'none';\n",
              "    })();\n",
              "  </script>\n",
              "</div>\n",
              "\n",
              "    </div>\n",
              "  </div>\n"
            ],
            "application/vnd.google.colaboratory.intrinsic+json": {
              "type": "dataframe",
              "variable_name": "df",
              "summary": "{\n  \"name\": \"df\",\n  \"rows\": 68,\n  \"fields\": [\n    {\n      \"column\": \"input\",\n      \"properties\": {\n        \"dtype\": \"category\",\n        \"num_unique_values\": 31,\n        \"samples\": [\n          \"search for another way\",\n          \"hide\",\n          \"read it\"\n        ],\n        \"semantic_type\": \"\",\n        \"description\": \"\"\n      }\n    },\n    {\n      \"column\": \"response\",\n      \"properties\": {\n        \"dtype\": \"string\",\n        \"num_unique_values\": 41,\n        \"samples\": [\n          \"You ignore the note and walk away, missing your chance for treasure.\",\n          \"You take a rest and wake up to find a note beside you. Do you 'read it' or 'ignore it'?\",\n          \"You descend into the basement and hear a noise. Do you 'hide' or 'investigate'?\"\n        ],\n        \"semantic_type\": \"\",\n        \"description\": \"\"\n      }\n    },\n    {\n      \"column\": \"next_options\",\n      \"properties\": {\n        \"dtype\": \"object\",\n        \"semantic_type\": \"\",\n        \"description\": \"\"\n      }\n    }\n  ]\n}"
            }
          },
          "metadata": {},
          "execution_count": 122
        }
      ]
    },
    {
      "cell_type": "markdown",
      "source": [
        "# Step 2: Data Preprocessing"
      ],
      "metadata": {
        "id": "4LZZrOo3MIN0"
      }
    },
    {
      "cell_type": "code",
      "source": [
        "# Extract unique choice for encoding\n",
        "all_text = df['input'].tolist() + df['response'].tolist()\n",
        "tokenizer = Tokenizer()\n",
        "tokenizer.fit_on_texts(all_text)\n",
        "vocab_size = len(tokenizer.word_index) + 1\n",
        "vocab_size"
      ],
      "metadata": {
        "colab": {
          "base_uri": "https://localhost:8080/"
        },
        "id": "1276AY7nLoGJ",
        "outputId": "d758004f-7b37-4caf-a792-cb4abdcabae9"
      },
      "execution_count": 123,
      "outputs": [
        {
          "output_type": "execute_result",
          "data": {
            "text/plain": [
              "206"
            ]
          },
          "metadata": {},
          "execution_count": 123
        }
      ]
    },
    {
      "cell_type": "code",
      "source": [
        "# Add special tokens\n",
        "tokenizer.word_index['<start>'] = vocab_size\n",
        "tokenizer.word_index['<end>'] = vocab_size + 1\n",
        "vocab_size += 2  # Update vocabulary size"
      ],
      "metadata": {
        "id": "ieisy2tdZaCk"
      },
      "execution_count": 124,
      "outputs": []
    },
    {
      "cell_type": "code",
      "source": [
        "tokenizer.word_index"
      ],
      "metadata": {
        "colab": {
          "base_uri": "https://localhost:8080/"
        },
        "id": "Ps6VmYAfNsaj",
        "outputId": "3798b632-2632-4aae-bd50-17ceca5798e3"
      },
      "execution_count": 125,
      "outputs": [
        {
          "output_type": "execute_result",
          "data": {
            "text/plain": [
              "{'you': 1,\n",
              " 'a': 2,\n",
              " 'the': 3,\n",
              " 'find': 4,\n",
              " 'and': 5,\n",
              " 'do': 6,\n",
              " 'or': 7,\n",
              " 'to': 8,\n",
              " 'ignore': 9,\n",
              " 'it': 10,\n",
              " '🎉': 11,\n",
              " 'house': 12,\n",
              " 'win': 13,\n",
              " 'hidden': 14,\n",
              " 'game': 15,\n",
              " 'over': 16,\n",
              " '💀': 17,\n",
              " 'enter': 18,\n",
              " 'back': 19,\n",
              " 'way': 20,\n",
              " 'but': 21,\n",
              " 'treasure': 22,\n",
              " 'keep': 23,\n",
              " \"'enter'\": 24,\n",
              " \"'ignore'\": 25,\n",
              " 'with': 26,\n",
              " 'door': 27,\n",
              " 'walk': 28,\n",
              " 'walking': 29,\n",
              " 'return': 30,\n",
              " 'explore': 31,\n",
              " 'key': 32,\n",
              " 'for': 33,\n",
              " 'in': 34,\n",
              " 'island': 35,\n",
              " \"'explore'\": 36,\n",
              " 'village': 37,\n",
              " 'note': 38,\n",
              " 'magical': 39,\n",
              " 'passage': 40,\n",
              " 'portal': 41,\n",
              " 'dragon': 42,\n",
              " 'turn': 43,\n",
              " 'inside': 44,\n",
              " \"back'\": 45,\n",
              " 'well': 46,\n",
              " 'up': 47,\n",
              " 'rest': 48,\n",
              " 'read': 49,\n",
              " 'hide': 50,\n",
              " 'away': 51,\n",
              " 'build': 52,\n",
              " 'raft': 53,\n",
              " 'another': 54,\n",
              " 'avoid': 55,\n",
              " 'an': 56,\n",
              " 'basement': 57,\n",
              " 'further': 58,\n",
              " 'leads': 59,\n",
              " \"it'\": 60,\n",
              " 'secret': 61,\n",
              " 'escape': 62,\n",
              " 'safely': 63,\n",
              " 'artifact': 64,\n",
              " 'become': 65,\n",
              " 'nearby': 66,\n",
              " 'gold': 67,\n",
              " 'chance': 68,\n",
              " 'locked': 69,\n",
              " 'nothing': 70,\n",
              " 'swim': 71,\n",
              " 'talk': 72,\n",
              " 'people': 73,\n",
              " 'wake': 74,\n",
              " 'mysterious': 75,\n",
              " \"'turn\": 76,\n",
              " 'see': 77,\n",
              " 'dark': 78,\n",
              " 'continue': 79,\n",
              " 'cave': 80,\n",
              " 'moving': 81,\n",
              " \"'keep\": 82,\n",
              " 'trail': 83,\n",
              " 'book': 84,\n",
              " 'villagers': 85,\n",
              " 'your': 86,\n",
              " 'home': 87,\n",
              " 'start': 88,\n",
              " 'going': 89,\n",
              " 'follow': 90,\n",
              " 'investigate': 91,\n",
              " 'look': 92,\n",
              " 'use': 93,\n",
              " 'search': 94,\n",
              " 'fight': 95,\n",
              " 'go': 96,\n",
              " 'old': 97,\n",
              " 'abandoned': 98,\n",
              " \"'walk\": 99,\n",
              " \"'build\": 100,\n",
              " \"raft'\": 101,\n",
              " 'notice': 102,\n",
              " 'entrance': 103,\n",
              " \"'talk\": 104,\n",
              " \"people'\": 105,\n",
              " \"walking'\": 106,\n",
              " 'take': 107,\n",
              " 'beside': 108,\n",
              " \"'read\": 109,\n",
              " \"'ignore\": 110,\n",
              " 'contains': 111,\n",
              " 'map': 112,\n",
              " 'tunnel': 113,\n",
              " 'leading': 114,\n",
              " 'outside': 115,\n",
              " \"it's\": 116,\n",
              " 'cursed': 117,\n",
              " 'opens': 118,\n",
              " 'forward': 119,\n",
              " 'reaching': 120,\n",
              " 'has': 121,\n",
              " 'temple': 122,\n",
              " 'ancient': 123,\n",
              " 'secrets': 124,\n",
              " 'famous': 125,\n",
              " 'reveals': 126,\n",
              " 'dig': 127,\n",
              " 'missing': 128,\n",
              " \"'use\": 129,\n",
              " \"key'\": 130,\n",
              " \"'search\": 131,\n",
              " \"way'\": 132,\n",
              " 'unlocks': 133,\n",
              " 'revealing': 134,\n",
              " 'room': 135,\n",
              " 'behind': 136,\n",
              " 'bookshelf': 137,\n",
              " 'dungeon': 138,\n",
              " 'chest': 139,\n",
              " 'filled': 140,\n",
              " 'jewels': 141,\n",
              " 'again': 142,\n",
              " 'leave': 143,\n",
              " 'takes': 144,\n",
              " 'land': 145,\n",
              " \"'find\": 146,\n",
              " 'discover': 147,\n",
              " 'kingdom': 148,\n",
              " 'ruled': 149,\n",
              " 'by': 150,\n",
              " 'wise': 151,\n",
              " 'king': 152,\n",
              " 'he': 153,\n",
              " 'rewards': 154,\n",
              " 'bring': 155,\n",
              " 'tell': 156,\n",
              " 'about': 157,\n",
              " 'dangerous': 158,\n",
              " \"'fight'\": 159,\n",
              " \"'avoid'\": 160,\n",
              " 'defeat': 161,\n",
              " 'save': 162,\n",
              " 'miss': 163,\n",
              " 'hero': 164,\n",
              " 'left': 165,\n",
              " 'right': 166,\n",
              " 'down': 167,\n",
              " 'past': 168,\n",
              " 'forest': 169,\n",
              " \"'left'\": 170,\n",
              " \"'right'\": 171,\n",
              " 'reach': 172,\n",
              " 'river': 173,\n",
              " 'broken': 174,\n",
              " 'bridge': 175,\n",
              " \"'swim'\": 176,\n",
              " 'staircase': 177,\n",
              " \"'up'\": 178,\n",
              " \"'down'\": 179,\n",
              " \"past'\": 180,\n",
              " 'swimming': 181,\n",
              " 'something': 182,\n",
              " 'underwater': 183,\n",
              " \"going'\": 184,\n",
              " \"'return'\": 185,\n",
              " \"'follow'\": 186,\n",
              " \"'rest'\": 187,\n",
              " 'upstairs': 188,\n",
              " 'dusty': 189,\n",
              " \"'read'\": 190,\n",
              " 'descend': 191,\n",
              " 'into': 192,\n",
              " 'hear': 193,\n",
              " 'noise': 194,\n",
              " \"'hide'\": 195,\n",
              " \"'investigate'\": 196,\n",
              " \"'look\": 197,\n",
              " \"inside'\": 198,\n",
              " \"away'\": 199,\n",
              " 'help': 200,\n",
              " '🏡': 201,\n",
              " 'get': 202,\n",
              " 'lost': 203,\n",
              " 'jungle': 204,\n",
              " 'never': 205,\n",
              " '<start>': 206,\n",
              " '<end>': 207}"
            ]
          },
          "metadata": {},
          "execution_count": 125
        }
      ]
    },
    {
      "cell_type": "code",
      "source": [
        "# Encode sequence\n",
        "X = tokenizer.texts_to_sequences(df['input'])\n",
        "y = tokenizer.texts_to_sequences(df['response'])"
      ],
      "metadata": {
        "id": "cnsBOFIcNzkP"
      },
      "execution_count": 126,
      "outputs": []
    },
    {
      "cell_type": "code",
      "source": [
        "# padding\n",
        "X = pad_sequences(X, padding='post')\n",
        "y = pad_sequences(y, padding='post')"
      ],
      "metadata": {
        "id": "o_aHjJDrOIl0"
      },
      "execution_count": 127,
      "outputs": []
    },
    {
      "cell_type": "code",
      "source": [
        "X.shape"
      ],
      "metadata": {
        "colab": {
          "base_uri": "https://localhost:8080/"
        },
        "collapsed": true,
        "id": "Zmkzssm4OTkf",
        "outputId": "577c1d97-9437-4e86-926b-5de15545f722"
      },
      "execution_count": 128,
      "outputs": [
        {
          "output_type": "execute_result",
          "data": {
            "text/plain": [
              "(68, 4)"
            ]
          },
          "metadata": {},
          "execution_count": 128
        }
      ]
    },
    {
      "cell_type": "code",
      "source": [
        "y.shape"
      ],
      "metadata": {
        "colab": {
          "base_uri": "https://localhost:8080/"
        },
        "collapsed": true,
        "id": "x82uLwFYOV08",
        "outputId": "a2d5dbbf-4463-4391-e687-9662717ee380"
      },
      "execution_count": 129,
      "outputs": [
        {
          "output_type": "execute_result",
          "data": {
            "text/plain": [
              "(68, 20)"
            ]
          },
          "metadata": {},
          "execution_count": 129
        }
      ]
    },
    {
      "cell_type": "markdown",
      "source": [
        "# Step 3: Visualization"
      ],
      "metadata": {
        "id": "fQs7PXU8OaR9"
      }
    },
    {
      "cell_type": "code",
      "source": [
        "for index, row in df.iterrows():\n",
        "  print(index, row)"
      ],
      "metadata": {
        "colab": {
          "base_uri": "https://localhost:8080/"
        },
        "collapsed": true,
        "id": "hcEn-8JnPVOS",
        "outputId": "9893d838-3c95-4789-d3bb-d1fd5681f6b7"
      },
      "execution_count": 130,
      "outputs": [
        {
          "output_type": "stream",
          "name": "stdout",
          "text": [
            "0 input                                                       start\n",
            "response        You wake up in a mysterious forest. Do you go ...\n",
            "next_options                                        [left, right]\n",
            "Name: 0, dtype: object\n",
            "1 input                                                        left\n",
            "response        You find an old abandoned house. Do you 'enter...\n",
            "next_options                                      [enter, ignore]\n",
            "Name: 1, dtype: object\n",
            "2 input                                                       right\n",
            "response        You reach a river with a broken bridge. Do you...\n",
            "next_options                                    [swim, turn back]\n",
            "Name: 2, dtype: object\n",
            "3 input                                                       enter\n",
            "response        Inside the house, you see a staircase and a da...\n",
            "next_options                                           [up, down]\n",
            "Name: 3, dtype: object\n",
            "4 input                                                      ignore\n",
            "response        You continue walking and find a cave. Do you '...\n",
            "next_options                                   [enter, walk past]\n",
            "Name: 4, dtype: object\n",
            "5 input                                                        swim\n",
            "response        You start swimming but see something moving un...\n",
            "next_options                                 [keep going, return]\n",
            "Name: 5, dtype: object\n",
            "6 input                                                   turn back\n",
            "response        You return and see a hidden trail. Do you 'fol...\n",
            "next_options                                       [follow, rest]\n",
            "Name: 6, dtype: object\n",
            "7 input                                                          up\n",
            "response        Upstairs, you find a dusty old book. Do you 'r...\n",
            "next_options                                       [read, ignore]\n",
            "Name: 7, dtype: object\n",
            "8 input                                                        down\n",
            "response        You descend into the basement and hear a noise...\n",
            "next_options                                  [hide, investigate]\n",
            "Name: 8, dtype: object\n",
            "9 input                                                   walk past\n",
            "response        You keep walking and find an abandoned well. D...\n",
            "next_options                             [look inside, walk away]\n",
            "Name: 9, dtype: object\n",
            "10 input                                                  keep going\n",
            "response        You swim further and find an island. Do you 'e...\n",
            "next_options                              [explore, build a raft]\n",
            "Name: 10, dtype: object\n",
            "11 input                                                      return\n",
            "response        You turn back but notice a hidden cave entranc...\n",
            "next_options                                      [enter, ignore]\n",
            "Name: 11, dtype: object\n",
            "12 input                                                      follow\n",
            "response        The trail leads to a village. Do you 'talk to ...\n",
            "next_options                       [talk to people, keep walking]\n",
            "Name: 12, dtype: object\n",
            "13 input                                                        rest\n",
            "response        You take a rest and wake up to find a note bes...\n",
            "next_options                                 [read it, ignore it]\n",
            "Name: 13, dtype: object\n",
            "14 input                                                   read\n",
            "response        The book contains a treasure map! You win! 🎉\n",
            "next_options                                              []\n",
            "Name: 14, dtype: object\n",
            "15 input                                                        hide\n",
            "response        You hide in the basement and find a secret tun...\n",
            "next_options                                                   []\n",
            "Name: 15, dtype: object\n",
            "16 input                                                 investigate\n",
            "response        You find a magical artifact, but it's cursed! ...\n",
            "next_options                                                   []\n",
            "Name: 16, dtype: object\n",
            "17 input                                                 look inside\n",
            "response        You find a hidden key inside the well. It open...\n",
            "next_options                                        [enter house]\n",
            "Name: 17, dtype: object\n",
            "18 input                                                   walk away\n",
            "response        You ignore the well and keep moving forward, r...\n",
            "next_options                       [talk to people, keep walking]\n",
            "Name: 18, dtype: object\n",
            "19 input                                                     explore\n",
            "response        The island has a hidden temple with ancient se...\n",
            "next_options                                                   []\n",
            "Name: 19, dtype: object\n",
            "20 input                                             build a raft\n",
            "response        You build a raft and escape the island safely!\n",
            "next_options                                                []\n",
            "Name: 20, dtype: object\n",
            "21 input                                              talk to people\n",
            "response        The villagers help you find your way home. You...\n",
            "next_options                                                   []\n",
            "Name: 21, dtype: object\n",
            "22 input                                                keep walking\n",
            "response        You get lost in the jungle and never return. G...\n",
            "next_options                                                   []\n",
            "Name: 22, dtype: object\n",
            "23 input                                                     read it\n",
            "response        The note reveals a hidden treasure nearby. You...\n",
            "next_options                                                   []\n",
            "Name: 23, dtype: object\n",
            "24 input                                                   ignore it\n",
            "response        You ignore the note and walk away, missing you...\n",
            "next_options                                       [keep walking]\n",
            "Name: 24, dtype: object\n",
            "25 input                                                 enter house\n",
            "response        You enter the house and find a locked door. Do...\n",
            "next_options                [use the key, search for another way]\n",
            "Name: 25, dtype: object\n",
            "26 input                                                 use the key\n",
            "response        The key unlocks the door, revealing a treasure...\n",
            "next_options                                                   []\n",
            "Name: 26, dtype: object\n",
            "27 input                                      search for another way\n",
            "response        You find a hidden passage behind a bookshelf. ...\n",
            "next_options                                      [enter, ignore]\n",
            "Name: 27, dtype: object\n",
            "28 input                                                       enter\n",
            "response        The passage leads to a dark dungeon. Do you 'e...\n",
            "next_options                                 [explore, turn back]\n",
            "Name: 28, dtype: object\n",
            "29 input                                                     explore\n",
            "response        You find a chest filled with gold and jewels! ...\n",
            "next_options                                                   []\n",
            "Name: 29, dtype: object\n",
            "30 input                                                   turn back\n",
            "response        You return to the house and find the door lock...\n",
            "next_options                                                   []\n",
            "Name: 30, dtype: object\n",
            "31 input                                                      ignore\n",
            "response        You ignore the passage and leave the house. Yo...\n",
            "next_options                                                   []\n",
            "Name: 31, dtype: object\n",
            "32 input                                                keep walking\n",
            "response        You walk further and find a mysterious portal....\n",
            "next_options                                      [enter, ignore]\n",
            "Name: 32, dtype: object\n",
            "33 input                                                       enter\n",
            "response        The portal takes you to a magical land. Do you...\n",
            "next_options                           [explore, find a way back]\n",
            "Name: 33, dtype: object\n",
            "34 input                                                     explore\n",
            "response        You discover a kingdom ruled by a wise king. H...\n",
            "next_options                                                   []\n",
            "Name: 34, dtype: object\n",
            "35 input                                             find a way back\n",
            "response        You find a way back home but bring a magical a...\n",
            "next_options                                                   []\n",
            "Name: 35, dtype: object\n",
            "36 input                                                      ignore\n",
            "response        You ignore the portal and continue walking. Yo...\n",
            "next_options                                                   []\n",
            "Name: 36, dtype: object\n",
            "37 input                                              talk to people\n",
            "response        The villagers tell you about a dangerous drago...\n",
            "next_options                                       [fight, avoid]\n",
            "Name: 37, dtype: object\n",
            "38 input                                                       fight\n",
            "response        You defeat the dragon and save the village! Yo...\n",
            "next_options                                                   []\n",
            "Name: 38, dtype: object\n",
            "39 input                                                       avoid\n",
            "response        You avoid the dragon but miss the chance to be...\n",
            "next_options                                                   []\n",
            "Name: 39, dtype: object\n",
            "40 input                                                 enter house\n",
            "response        You enter the house and find a locked door. Do...\n",
            "next_options                [use the key, search for another way]\n",
            "Name: 40, dtype: object\n",
            "41 input                                                 use the key\n",
            "response        The key unlocks the door, revealing a treasure...\n",
            "next_options                                                   []\n",
            "Name: 41, dtype: object\n",
            "42 input                                      search for another way\n",
            "response        You find a hidden passage behind a bookshelf. ...\n",
            "next_options                                      [enter, ignore]\n",
            "Name: 42, dtype: object\n",
            "43 input                                                       enter\n",
            "response        The passage leads to a dark dungeon. Do you 'e...\n",
            "next_options                                 [explore, turn back]\n",
            "Name: 43, dtype: object\n",
            "44 input                                                     explore\n",
            "response        You find a chest filled with gold and jewels! ...\n",
            "next_options                                                   []\n",
            "Name: 44, dtype: object\n",
            "45 input                                                   turn back\n",
            "response        You return to the house and find the door lock...\n",
            "next_options                                                   []\n",
            "Name: 45, dtype: object\n",
            "46 input                                                      ignore\n",
            "response        You ignore the passage and leave the house. Yo...\n",
            "next_options                                                   []\n",
            "Name: 46, dtype: object\n",
            "47 input                                                keep walking\n",
            "response        You walk further and find a mysterious portal....\n",
            "next_options                                      [enter, ignore]\n",
            "Name: 47, dtype: object\n",
            "48 input                                                       enter\n",
            "response        The portal takes you to a magical land. Do you...\n",
            "next_options                           [explore, find a way back]\n",
            "Name: 48, dtype: object\n",
            "49 input                                                     explore\n",
            "response        You discover a kingdom ruled by a wise king. H...\n",
            "next_options                                                   []\n",
            "Name: 49, dtype: object\n",
            "50 input                                             find a way back\n",
            "response        You find a way back home but bring a magical a...\n",
            "next_options                                                   []\n",
            "Name: 50, dtype: object\n",
            "51 input                                                      ignore\n",
            "response        You ignore the portal and continue walking. Yo...\n",
            "next_options                                                   []\n",
            "Name: 51, dtype: object\n",
            "52 input                                              talk to people\n",
            "response        The villagers tell you about a dangerous drago...\n",
            "next_options                                       [fight, avoid]\n",
            "Name: 52, dtype: object\n",
            "53 input                                                       fight\n",
            "response        You defeat the dragon and save the village! Yo...\n",
            "next_options                                                   []\n",
            "Name: 53, dtype: object\n",
            "54 input                                                       avoid\n",
            "response        You avoid the dragon but miss the chance to be...\n",
            "next_options                                                   []\n",
            "Name: 54, dtype: object\n",
            "55 input                                                     read it\n",
            "response        The note reveals a hidden treasure nearby. You...\n",
            "next_options                                                   []\n",
            "Name: 55, dtype: object\n",
            "56 input                                                   ignore it\n",
            "response        You ignore the note and walk away, missing you...\n",
            "next_options                                       [keep walking]\n",
            "Name: 56, dtype: object\n",
            "57 input                                             build a raft\n",
            "response        You build a raft and escape the island safely!\n",
            "next_options                                                []\n",
            "Name: 57, dtype: object\n",
            "58 input                                                     explore\n",
            "response        The island has a hidden temple with ancient se...\n",
            "next_options                                                   []\n",
            "Name: 58, dtype: object\n",
            "59 input                                                 look inside\n",
            "response        You find a hidden key inside the well. It open...\n",
            "next_options                                        [enter house]\n",
            "Name: 59, dtype: object\n",
            "60 input                                                   walk away\n",
            "response        You ignore the well and keep moving forward, r...\n",
            "next_options                       [talk to people, keep walking]\n",
            "Name: 60, dtype: object\n",
            "61 input                                                   read\n",
            "response        The book contains a treasure map! You win! 🎉\n",
            "next_options                                              []\n",
            "Name: 61, dtype: object\n",
            "62 input                                                        hide\n",
            "response        You hide in the basement and find a secret tun...\n",
            "next_options                                                   []\n",
            "Name: 62, dtype: object\n",
            "63 input                                                 investigate\n",
            "response        You find a magical artifact, but it's cursed! ...\n",
            "next_options                                                   []\n",
            "Name: 63, dtype: object\n",
            "64 input                                                  keep going\n",
            "response        You swim further and find an island. Do you 'e...\n",
            "next_options                              [explore, build a raft]\n",
            "Name: 64, dtype: object\n",
            "65 input                                                      return\n",
            "response        You turn back but notice a hidden cave entranc...\n",
            "next_options                                      [enter, ignore]\n",
            "Name: 65, dtype: object\n",
            "66 input                                                      follow\n",
            "response        The trail leads to a village. Do you 'talk to ...\n",
            "next_options                       [talk to people, keep walking]\n",
            "Name: 66, dtype: object\n",
            "67 input                                                        rest\n",
            "response        You take a rest and wake up to find a note bes...\n",
            "next_options                                 [read it, ignore it]\n",
            "Name: 67, dtype: object\n"
          ]
        }
      ]
    },
    {
      "cell_type": "code",
      "source": [
        "# Create a directed graph to represent the game flow\n",
        "G = nx.DiGraph()\n",
        "\n",
        "# Add nodes and edges based on the dataset\n",
        "for index, row in df.iterrows():\n",
        "    G.add_node(row['input'], description=row['response'])\n",
        "    for option in row['next_options']:\n",
        "        G.add_edge(row['input'], option)\n",
        "\n",
        "# Draw the graph\n",
        "plt.figure(figsize=(12, 8))\n",
        "pos = nx.spring_layout(G, seed=42)\n",
        "nx.draw(G, pos, with_labels=True, node_size=3000, node_color='lightblue', font_size=10, font_weight='bold', edge_color='gray')\n",
        "plt.title(\"Game Flow Visualization\", fontsize=16)\n",
        "plt.show()"
      ],
      "metadata": {
        "colab": {
          "base_uri": "https://localhost:8080/",
          "height": 668
        },
        "id": "0rl-AeOEOWTo",
        "outputId": "7c9db83a-1fcc-4ecb-c56e-108f73ad97b9"
      },
      "execution_count": 131,
      "outputs": [
        {
          "output_type": "display_data",
          "data": {
            "text/plain": [
              "<Figure size 1200x800 with 1 Axes>"
            ],
            "image/png": "[encoded data removed]"
          },
          "metadata": {}
        }
      ]
    },
    {
      "cell_type": "markdown",
      "source": [
        "# Step 4: Define Seq2Seq Model"
      ],
      "metadata": {
        "id": "vZah2GJ1QPiL"
      }
    },
    {
      "cell_type": "code",
      "source": [
        "# Prepare decoder input (shifted version of y)\n",
        "decoder_input_data = np.zeros_like(y)  # Shape: (68, 20)\n",
        "decoder_input_data[:, 1:] = y[:, :-1]  # Shift right by one time step\n",
        "decoder_input_data[:, 0] = tokenizer.word_index['<start>']  # Add start token"
      ],
      "metadata": {
        "id": "fPLfBAvOZrfj"
      },
      "execution_count": 132,
      "outputs": []
    },
    {
      "cell_type": "code",
      "source": [
        "X.shape[1]"
      ],
      "metadata": {
        "colab": {
          "base_uri": "https://localhost:8080/"
        },
        "id": "hosH4_HoQlLm",
        "outputId": "878cfc90-c820-4d72-fe0b-a8f38204970b"
      },
      "execution_count": 133,
      "outputs": [
        {
          "output_type": "execute_result",
          "data": {
            "text/plain": [
              "4"
            ]
          },
          "metadata": {},
          "execution_count": 133
        }
      ]
    },
    {
      "cell_type": "code",
      "source": [
        "embedding_dim = 100\n",
        "units = 128  #lstm"
      ],
      "metadata": {
        "id": "aY4FPantP61O"
      },
      "execution_count": 134,
      "outputs": []
    },
    {
      "cell_type": "code",
      "source": [
        "# Encoder\n",
        "encoder_inputs = Input(shape=(X.shape[1],))  # Shape: (None, 4)\n",
        "encoder_embedding = Embedding(vocab_size, embedding_dim)(encoder_inputs)\n",
        "encoder_lstm = LSTM(units, return_state=True)\n",
        "encoder_outputs, state_h, state_c = encoder_lstm(encoder_embedding)"
      ],
      "metadata": {
        "id": "eZ2NeY0gSRy2"
      },
      "execution_count": 135,
      "outputs": []
    },
    {
      "cell_type": "code",
      "source": [
        "# Decoder\n",
        "decoder_inputs = Input(shape=(y.shape[1],))  # Shape: (None, 20)\n",
        "decoder_embedding = Embedding(vocab_size, embedding_dim)(decoder_inputs)\n",
        "decoder_lstm = LSTM(units, return_sequences=True, return_state=True)\n",
        "decoder_outputs, _, _ = decoder_lstm(decoder_embedding, initial_state=[state_h, state_c])\n",
        "decoder_dense = Dense(vocab_size, activation='softmax')\n",
        "decoder_outputs = decoder_dense(decoder_outputs)"
      ],
      "metadata": {
        "id": "MejCETN-Qaiz"
      },
      "execution_count": 136,
      "outputs": []
    },
    {
      "cell_type": "code",
      "source": [
        "# Compile Model\n",
        "model = Model([encoder_inputs, decoder_inputs], decoder_outputs)\n",
        "model.compile(optimizer='adam', loss='sparse_categorical_crossentropy', metrics=['accuracy'])"
      ],
      "metadata": {
        "id": "5DcWtPDfSUhA"
      },
      "execution_count": 140,
      "outputs": []
    },
    {
      "cell_type": "code",
      "source": [
        "print(\"Model Summary:\")\n",
        "model.summary()"
      ],
      "metadata": {
        "colab": {
          "base_uri": "https://localhost:8080/",
          "height": 476
        },
        "id": "TC2yqBisSZqD",
        "outputId": "1ea1c4c0-c7e5-4b6a-8f23-c02ff6c24d9e"
      },
      "execution_count": 141,
      "outputs": [
        {
          "output_type": "stream",
          "name": "stdout",
          "text": [
            "Model Summary:\n"
          ]
        },
        {
          "output_type": "display_data",
          "data": {
            "text/plain": [
              "\u001b[1mModel: \"functional_6\"\u001b[0m\n"
            ],
            "text/html": [
              "<pre style=\"white-space:pre;overflow-x:auto;line-height:normal;font-family:Menlo,'DejaVu Sans Mono',consolas,'Courier New',monospace\"><span style=\"font-weight: bold\">Model: \"functional_6\"</span>\n",
              "</pre>\n"
            ]
          },
          "metadata": {}
        },
        {
          "output_type": "display_data",
          "data": {
            "text/plain": [
              "┏━━━━━━━━━━━━━━━━━━━━━━━━━━━┳━━━━━━━━━━━━━━━━━━━━━━━━┳━━━━━━━━━━━━━━━━┳━━━━━━━━━━━━━━━━━━━━━━━━┓\n",
              "┃\u001b[1m \u001b[0m\u001b[1mLayer (type)             \u001b[0m\u001b[1m \u001b[0m┃\u001b[1m \u001b[0m\u001b[1mOutput Shape          \u001b[0m\u001b[1m \u001b[0m┃\u001b[1m \u001b[0m\u001b[1m       Param #\u001b[0m\u001b[1m \u001b[0m┃\u001b[1m \u001b[0m\u001b[1mConnected to          \u001b[0m\u001b[1m \u001b[0m┃\n",
              "┡━━━━━━━━━━━━━━━━━━━━━━━━━━━╇━━━━━━━━━━━━━━━━━━━━━━━━╇━━━━━━━━━━━━━━━━╇━━━━━━━━━━━━━━━━━━━━━━━━┩\n",
              "│ input_layer_10            │ (\u001b[38;5;45mNone\u001b[0m, \u001b[38;5;34m4\u001b[0m)              │              \u001b[38;5;34m0\u001b[0m │ -                      │\n",
              "│ (\u001b[38;5;33mInputLayer\u001b[0m)              │                        │                │                        │\n",
              "├───────────────────────────┼────────────────────────┼────────────────┼────────────────────────┤\n",
              "│ input_layer_11            │ (\u001b[38;5;45mNone\u001b[0m, \u001b[38;5;34m20\u001b[0m)             │              \u001b[38;5;34m0\u001b[0m │ -                      │\n",
              "│ (\u001b[38;5;33mInputLayer\u001b[0m)              │                        │                │                        │\n",
              "├───────────────────────────┼────────────────────────┼────────────────┼────────────────────────┤\n",
              "│ embedding_10 (\u001b[38;5;33mEmbedding\u001b[0m)  │ (\u001b[38;5;45mNone\u001b[0m, \u001b[38;5;34m4\u001b[0m, \u001b[38;5;34m100\u001b[0m)         │         \u001b[38;5;34m20,800\u001b[0m │ input_layer_10[\u001b[38;5;34m0\u001b[0m][\u001b[38;5;34m0\u001b[0m]   │\n",
              "├───────────────────────────┼────────────────────────┼────────────────┼────────────────────────┤\n",
              "│ embedding_11 (\u001b[38;5;33mEmbedding\u001b[0m)  │ (\u001b[38;5;45mNone\u001b[0m, \u001b[38;5;34m20\u001b[0m, \u001b[38;5;34m100\u001b[0m)        │         \u001b[38;5;34m20,800\u001b[0m │ input_layer_11[\u001b[38;5;34m0\u001b[0m][\u001b[38;5;34m0\u001b[0m]   │\n",
              "├───────────────────────────┼────────────────────────┼────────────────┼────────────────────────┤\n",
              "│ lstm_10 (\u001b[38;5;33mLSTM\u001b[0m)            │ [(\u001b[38;5;45mNone\u001b[0m, \u001b[38;5;34m128\u001b[0m), (\u001b[38;5;45mNone\u001b[0m,   │        \u001b[38;5;34m117,248\u001b[0m │ embedding_10[\u001b[38;5;34m0\u001b[0m][\u001b[38;5;34m0\u001b[0m]     │\n",
              "│                           │ \u001b[38;5;34m128\u001b[0m), (\u001b[38;5;45mNone\u001b[0m, \u001b[38;5;34m128\u001b[0m)]     │                │                        │\n",
              "├───────────────────────────┼────────────────────────┼────────────────┼────────────────────────┤\n",
              "│ lstm_11 (\u001b[38;5;33mLSTM\u001b[0m)            │ [(\u001b[38;5;45mNone\u001b[0m, \u001b[38;5;34m20\u001b[0m, \u001b[38;5;34m128\u001b[0m),      │        \u001b[38;5;34m117,248\u001b[0m │ embedding_11[\u001b[38;5;34m0\u001b[0m][\u001b[38;5;34m0\u001b[0m],    │\n",
              "│                           │ (\u001b[38;5;45mNone\u001b[0m, \u001b[38;5;34m128\u001b[0m), (\u001b[38;5;45mNone\u001b[0m,    │                │ lstm_10[\u001b[38;5;34m0\u001b[0m][\u001b[38;5;34m1\u001b[0m],         │\n",
              "│                           │ \u001b[38;5;34m128\u001b[0m)]                  │                │ lstm_10[\u001b[38;5;34m0\u001b[0m][\u001b[38;5;34m2\u001b[0m]          │\n",
              "├───────────────────────────┼────────────────────────┼────────────────┼────────────────────────┤\n",
              "│ dense_4 (\u001b[38;5;33mDense\u001b[0m)           │ (\u001b[38;5;45mNone\u001b[0m, \u001b[38;5;34m20\u001b[0m, \u001b[38;5;34m208\u001b[0m)        │         \u001b[38;5;34m26,832\u001b[0m │ lstm_11[\u001b[38;5;34m0\u001b[0m][\u001b[38;5;34m0\u001b[0m]          │\n",
              "└───────────────────────────┴────────────────────────┴────────────────┴────────────────────────┘\n"
            ],
            "text/html": [
              "<pre style=\"white-space:pre;overflow-x:auto;line-height:normal;font-family:Menlo,'DejaVu Sans Mono',consolas,'Courier New',monospace\">┏━━━━━━━━━━━━━━━━━━━━━━━━━━━┳━━━━━━━━━━━━━━━━━━━━━━━━┳━━━━━━━━━━━━━━━━┳━━━━━━━━━━━━━━━━━━━━━━━━┓\n",
              "┃<span style=\"font-weight: bold\"> Layer (type)              </span>┃<span style=\"font-weight: bold\"> Output Shape           </span>┃<span style=\"font-weight: bold\">        Param # </span>┃<span style=\"font-weight: bold\"> Connected to           </span>┃\n",
              "┡━━━━━━━━━━━━━━━━━━━━━━━━━━━╇━━━━━━━━━━━━━━━━━━━━━━━━╇━━━━━━━━━━━━━━━━╇━━━━━━━━━━━━━━━━━━━━━━━━┩\n",
              "│ input_layer_10            │ (<span style=\"color: #00d7ff; text-decoration-color: #00d7ff\">None</span>, <span style=\"color: #00af00; text-decoration-color: #00af00\">4</span>)              │              <span style=\"color: #00af00; text-decoration-color: #00af00\">0</span> │ -                      │\n",
              "│ (<span style=\"color: #0087ff; text-decoration-color: #0087ff\">InputLayer</span>)              │                        │                │                        │\n",
              "├───────────────────────────┼────────────────────────┼────────────────┼────────────────────────┤\n",
              "│ input_layer_11            │ (<span style=\"color: #00d7ff; text-decoration-color: #00d7ff\">None</span>, <span style=\"color: #00af00; text-decoration-color: #00af00\">20</span>)             │              <span style=\"color: #00af00; text-decoration-color: #00af00\">0</span> │ -                      │\n",
              "│ (<span style=\"color: #0087ff; text-decoration-color: #0087ff\">InputLayer</span>)              │                        │                │                        │\n",
              "├───────────────────────────┼────────────────────────┼────────────────┼────────────────────────┤\n",
              "│ embedding_10 (<span style=\"color: #0087ff; text-decoration-color: #0087ff\">Embedding</span>)  │ (<span style=\"color: #00d7ff; text-decoration-color: #00d7ff\">None</span>, <span style=\"color: #00af00; text-decoration-color: #00af00\">4</span>, <span style=\"color: #00af00; text-decoration-color: #00af00\">100</span>)         │         <span style=\"color: #00af00; text-decoration-color: #00af00\">20,800</span> │ input_layer_10[<span style=\"color: #00af00; text-decoration-color: #00af00\">0</span>][<span style=\"color: #00af00; text-decoration-color: #00af00\">0</span>]   │\n",
              "├───────────────────────────┼────────────────────────┼────────────────┼────────────────────────┤\n",
              "│ embedding_11 (<span style=\"color: #0087ff; text-decoration-color: #0087ff\">Embedding</span>)  │ (<span style=\"color: #00d7ff; text-decoration-color: #00d7ff\">None</span>, <span style=\"color: #00af00; text-decoration-color: #00af00\">20</span>, <span style=\"color: #00af00; text-decoration-color: #00af00\">100</span>)        │         <span style=\"color: #00af00; text-decoration-color: #00af00\">20,800</span> │ input_layer_11[<span style=\"color: #00af00; text-decoration-color: #00af00\">0</span>][<span style=\"color: #00af00; text-decoration-color: #00af00\">0</span>]   │\n",
              "├───────────────────────────┼────────────────────────┼────────────────┼────────────────────────┤\n",
              "│ lstm_10 (<span style=\"color: #0087ff; text-decoration-color: #0087ff\">LSTM</span>)            │ [(<span style=\"color: #00d7ff; text-decoration-color: #00d7ff\">None</span>, <span style=\"color: #00af00; text-decoration-color: #00af00\">128</span>), (<span style=\"color: #00d7ff; text-decoration-color: #00d7ff\">None</span>,   │        <span style=\"color: #00af00; text-decoration-color: #00af00\">117,248</span> │ embedding_10[<span style=\"color: #00af00; text-decoration-color: #00af00\">0</span>][<span style=\"color: #00af00; text-decoration-color: #00af00\">0</span>]     │\n",
              "│                           │ <span style=\"color: #00af00; text-decoration-color: #00af00\">128</span>), (<span style=\"color: #00d7ff; text-decoration-color: #00d7ff\">None</span>, <span style=\"color: #00af00; text-decoration-color: #00af00\">128</span>)]     │                │                        │\n",
              "├───────────────────────────┼────────────────────────┼────────────────┼────────────────────────┤\n",
              "│ lstm_11 (<span style=\"color: #0087ff; text-decoration-color: #0087ff\">LSTM</span>)            │ [(<span style=\"color: #00d7ff; text-decoration-color: #00d7ff\">None</span>, <span style=\"color: #00af00; text-decoration-color: #00af00\">20</span>, <span style=\"color: #00af00; text-decoration-color: #00af00\">128</span>),      │        <span style=\"color: #00af00; text-decoration-color: #00af00\">117,248</span> │ embedding_11[<span style=\"color: #00af00; text-decoration-color: #00af00\">0</span>][<span style=\"color: #00af00; text-decoration-color: #00af00\">0</span>],    │\n",
              "│                           │ (<span style=\"color: #00d7ff; text-decoration-color: #00d7ff\">None</span>, <span style=\"color: #00af00; text-decoration-color: #00af00\">128</span>), (<span style=\"color: #00d7ff; text-decoration-color: #00d7ff\">None</span>,    │                │ lstm_10[<span style=\"color: #00af00; text-decoration-color: #00af00\">0</span>][<span style=\"color: #00af00; text-decoration-color: #00af00\">1</span>],         │\n",
              "│                           │ <span style=\"color: #00af00; text-decoration-color: #00af00\">128</span>)]                  │                │ lstm_10[<span style=\"color: #00af00; text-decoration-color: #00af00\">0</span>][<span style=\"color: #00af00; text-decoration-color: #00af00\">2</span>]          │\n",
              "├───────────────────────────┼────────────────────────┼────────────────┼────────────────────────┤\n",
              "│ dense_4 (<span style=\"color: #0087ff; text-decoration-color: #0087ff\">Dense</span>)           │ (<span style=\"color: #00d7ff; text-decoration-color: #00d7ff\">None</span>, <span style=\"color: #00af00; text-decoration-color: #00af00\">20</span>, <span style=\"color: #00af00; text-decoration-color: #00af00\">208</span>)        │         <span style=\"color: #00af00; text-decoration-color: #00af00\">26,832</span> │ lstm_11[<span style=\"color: #00af00; text-decoration-color: #00af00\">0</span>][<span style=\"color: #00af00; text-decoration-color: #00af00\">0</span>]          │\n",
              "└───────────────────────────┴────────────────────────┴────────────────┴────────────────────────┘\n",
              "</pre>\n"
            ]
          },
          "metadata": {}
        },
        {
          "output_type": "display_data",
          "data": {
            "text/plain": [
              "\u001b[1m Total params: \u001b[0m\u001b[38;5;34m302,928\u001b[0m (1.16 MB)\n"
            ],
            "text/html": [
              "<pre style=\"white-space:pre;overflow-x:auto;line-height:normal;font-family:Menlo,'DejaVu Sans Mono',consolas,'Courier New',monospace\"><span style=\"font-weight: bold\"> Total params: </span><span style=\"color: #00af00; text-decoration-color: #00af00\">302,928</span> (1.16 MB)\n",
              "</pre>\n"
            ]
          },
          "metadata": {}
        },
        {
          "output_type": "display_data",
          "data": {
            "text/plain": [
              "\u001b[1m Trainable params: \u001b[0m\u001b[38;5;34m302,928\u001b[0m (1.16 MB)\n"
            ],
            "text/html": [
              "<pre style=\"white-space:pre;overflow-x:auto;line-height:normal;font-family:Menlo,'DejaVu Sans Mono',consolas,'Courier New',monospace\"><span style=\"font-weight: bold\"> Trainable params: </span><span style=\"color: #00af00; text-decoration-color: #00af00\">302,928</span> (1.16 MB)\n",
              "</pre>\n"
            ]
          },
          "metadata": {}
        },
        {
          "output_type": "display_data",
          "data": {
            "text/plain": [
              "\u001b[1m Non-trainable params: \u001b[0m\u001b[38;5;34m0\u001b[0m (0.00 B)\n"
            ],
            "text/html": [
              "<pre style=\"white-space:pre;overflow-x:auto;line-height:normal;font-family:Menlo,'DejaVu Sans Mono',consolas,'Courier New',monospace\"><span style=\"font-weight: bold\"> Non-trainable params: </span><span style=\"color: #00af00; text-decoration-color: #00af00\">0</span> (0.00 B)\n",
              "</pre>\n"
            ]
          },
          "metadata": {}
        }
      ]
    },
    {
      "cell_type": "markdown",
      "source": [
        "# Step 5: Train the Model"
      ],
      "metadata": {
        "id": "uX-a67PVS_RK"
      }
    },
    {
      "cell_type": "code",
      "source": [
        "X_train = X\n",
        "y_train = y  # Shape: (68, 20)\n",
        "\n",
        "history = model.fit([X_train, decoder_input_data], y_train, epochs=100, validation_split=0.2)"
      ],
      "metadata": {
        "colab": {
          "base_uri": "https://localhost:8080/"
        },
        "id": "0nkYv20TTEIF",
        "outputId": "f37d9074-b2de-4c37-c7ac-d2e3eb0cd286"
      },
      "execution_count": 143,
      "outputs": [
        {
          "output_type": "stream",
          "name": "stdout",
          "text": [
            "Epoch 1/100\n",
            "\u001b[1m2/2\u001b[0m \u001b[32m━━━━━━━━━━━━━━━━━━━━\u001b[0m\u001b[37m\u001b[0m \u001b[1m0s\u001b[0m 155ms/step - accuracy: 0.5149 - loss: 2.1723 - val_accuracy: 0.4929 - val_loss: 2.4121\n",
            "Epoch 2/100\n",
            "\u001b[1m2/2\u001b[0m \u001b[32m━━━━━━━━━━━━━━━━━━━━\u001b[0m\u001b[37m\u001b[0m \u001b[1m0s\u001b[0m 108ms/step - accuracy: 0.5159 - loss: 2.1488 - val_accuracy: 0.4964 - val_loss: 2.3980\n",
            "Epoch 3/100\n",
            "\u001b[1m2/2\u001b[0m \u001b[32m━━━━━━━━━━━━━━━━━━━━\u001b[0m\u001b[37m\u001b[0m \u001b[1m0s\u001b[0m 114ms/step - accuracy: 0.5237 - loss: 2.1583 - val_accuracy: 0.4929 - val_loss: 2.3855\n",
            "Epoch 4/100\n",
            "\u001b[1m2/2\u001b[0m \u001b[32m━━━━━━━━━━━━━━━━━━━━\u001b[0m\u001b[37m\u001b[0m \u001b[1m0s\u001b[0m 118ms/step - accuracy: 0.5287 - loss: 2.1173 - val_accuracy: 0.4929 - val_loss: 2.3717\n",
            "Epoch 5/100\n",
            "\u001b[1m2/2\u001b[0m \u001b[32m━━━━━━━━━━━━━━━━━━━━\u001b[0m\u001b[37m\u001b[0m \u001b[1m0s\u001b[0m 108ms/step - accuracy: 0.5170 - loss: 2.1352 - val_accuracy: 0.4893 - val_loss: 2.3548\n",
            "Epoch 6/100\n",
            "\u001b[1m2/2\u001b[0m \u001b[32m━━━━━━━━━━━━━━━━━━━━\u001b[0m\u001b[37m\u001b[0m \u001b[1m0s\u001b[0m 109ms/step - accuracy: 0.5327 - loss: 2.0905 - val_accuracy: 0.5000 - val_loss: 2.3406\n",
            "Epoch 7/100\n",
            "\u001b[1m2/2\u001b[0m \u001b[32m━━━━━━━━━━━━━━━━━━━━\u001b[0m\u001b[37m\u001b[0m \u001b[1m0s\u001b[0m 111ms/step - accuracy: 0.5461 - loss: 2.0581 - val_accuracy: 0.5036 - val_loss: 2.3272\n",
            "Epoch 8/100\n",
            "\u001b[1m2/2\u001b[0m \u001b[32m━━━━━━━━━━━━━━━━━━━━\u001b[0m\u001b[37m\u001b[0m \u001b[1m0s\u001b[0m 119ms/step - accuracy: 0.5410 - loss: 2.0428 - val_accuracy: 0.5143 - val_loss: 2.3113\n",
            "Epoch 9/100\n",
            "\u001b[1m2/2\u001b[0m \u001b[32m━━━━━━━━━━━━━━━━━━━━\u001b[0m\u001b[37m\u001b[0m \u001b[1m0s\u001b[0m 107ms/step - accuracy: 0.5494 - loss: 2.0196 - val_accuracy: 0.5214 - val_loss: 2.2935\n",
            "Epoch 10/100\n",
            "\u001b[1m2/2\u001b[0m \u001b[32m━━━━━━━━━━━━━━━━━━━━\u001b[0m\u001b[37m\u001b[0m \u001b[1m0s\u001b[0m 109ms/step - accuracy: 0.5526 - loss: 2.0002 - val_accuracy: 0.5250 - val_loss: 2.2775\n",
            "Epoch 11/100\n",
            "\u001b[1m2/2\u001b[0m \u001b[32m━━━━━━━━━━━━━━━━━━━━\u001b[0m\u001b[37m\u001b[0m \u001b[1m0s\u001b[0m 108ms/step - accuracy: 0.5597 - loss: 1.9780 - val_accuracy: 0.5357 - val_loss: 2.2605\n",
            "Epoch 12/100\n",
            "\u001b[1m2/2\u001b[0m \u001b[32m━━━━━━━━━━━━━━━━━━━━\u001b[0m\u001b[37m\u001b[0m \u001b[1m0s\u001b[0m 110ms/step - accuracy: 0.5646 - loss: 1.9683 - val_accuracy: 0.5393 - val_loss: 2.2415\n",
            "Epoch 13/100\n",
            "\u001b[1m2/2\u001b[0m \u001b[32m━━━━━━━━━━━━━━━━━━━━\u001b[0m\u001b[37m\u001b[0m \u001b[1m0s\u001b[0m 114ms/step - accuracy: 0.5684 - loss: 1.9308 - val_accuracy: 0.5429 - val_loss: 2.2237\n",
            "Epoch 14/100\n",
            "\u001b[1m2/2\u001b[0m \u001b[32m━━━━━━━━━━━━━━━━━━━━\u001b[0m\u001b[37m\u001b[0m \u001b[1m0s\u001b[0m 140ms/step - accuracy: 0.5853 - loss: 1.8822 - val_accuracy: 0.5429 - val_loss: 2.2029\n",
            "Epoch 15/100\n",
            "\u001b[1m2/2\u001b[0m \u001b[32m━━━━━━━━━━━━━━━━━━━━\u001b[0m\u001b[37m\u001b[0m \u001b[1m0s\u001b[0m 123ms/step - accuracy: 0.5817 - loss: 1.8949 - val_accuracy: 0.5429 - val_loss: 2.1821\n",
            "Epoch 16/100\n",
            "\u001b[1m2/2\u001b[0m \u001b[32m━━━━━━━━━━━━━━━━━━━━\u001b[0m\u001b[37m\u001b[0m \u001b[1m0s\u001b[0m 109ms/step - accuracy: 0.5844 - loss: 1.8881 - val_accuracy: 0.5429 - val_loss: 2.1635\n",
            "Epoch 17/100\n",
            "\u001b[1m2/2\u001b[0m \u001b[32m━━━━━━━━━━━━━━━━━━━━\u001b[0m\u001b[37m\u001b[0m \u001b[1m0s\u001b[0m 112ms/step - accuracy: 0.5827 - loss: 1.8798 - val_accuracy: 0.5464 - val_loss: 2.1419\n",
            "Epoch 18/100\n",
            "\u001b[1m2/2\u001b[0m \u001b[32m━━━━━━━━━━━━━━━━━━━━\u001b[0m\u001b[37m\u001b[0m \u001b[1m0s\u001b[0m 118ms/step - accuracy: 0.5812 - loss: 1.8640 - val_accuracy: 0.5500 - val_loss: 2.1213\n",
            "Epoch 19/100\n",
            "\u001b[1m2/2\u001b[0m \u001b[32m━━━━━━━━━━━━━━━━━━━━\u001b[0m\u001b[37m\u001b[0m \u001b[1m0s\u001b[0m 141ms/step - accuracy: 0.5978 - loss: 1.7954 - val_accuracy: 0.5500 - val_loss: 2.1013\n",
            "Epoch 20/100\n",
            "\u001b[1m2/2\u001b[0m \u001b[32m━━━━━━━━━━━━━━━━━━━━\u001b[0m\u001b[37m\u001b[0m \u001b[1m0s\u001b[0m 111ms/step - accuracy: 0.6096 - loss: 1.7657 - val_accuracy: 0.5536 - val_loss: 2.0793\n",
            "Epoch 21/100\n",
            "\u001b[1m2/2\u001b[0m \u001b[32m━━━━━━━━━━━━━━━━━━━━\u001b[0m\u001b[37m\u001b[0m \u001b[1m0s\u001b[0m 111ms/step - accuracy: 0.6107 - loss: 1.7592 - val_accuracy: 0.5571 - val_loss: 2.0593\n",
            "Epoch 22/100\n",
            "\u001b[1m2/2\u001b[0m \u001b[32m━━━━━━━━━━━━━━━━━━━━\u001b[0m\u001b[37m\u001b[0m \u001b[1m0s\u001b[0m 115ms/step - accuracy: 0.6274 - loss: 1.7383 - val_accuracy: 0.5607 - val_loss: 2.0396\n",
            "Epoch 23/100\n",
            "\u001b[1m2/2\u001b[0m \u001b[32m━━━━━━━━━━━━━━━━━━━━\u001b[0m\u001b[37m\u001b[0m \u001b[1m0s\u001b[0m 112ms/step - accuracy: 0.6227 - loss: 1.7279 - val_accuracy: 0.5679 - val_loss: 2.0174\n",
            "Epoch 24/100\n",
            "\u001b[1m2/2\u001b[0m \u001b[32m━━━━━━━━━━━━━━━━━━━━\u001b[0m\u001b[37m\u001b[0m \u001b[1m0s\u001b[0m 121ms/step - accuracy: 0.6414 - loss: 1.6704 - val_accuracy: 0.5643 - val_loss: 1.9968\n",
            "Epoch 25/100\n",
            "\u001b[1m2/2\u001b[0m \u001b[32m━━━━━━━━━━━━━━━━━━━━\u001b[0m\u001b[37m\u001b[0m \u001b[1m0s\u001b[0m 108ms/step - accuracy: 0.6282 - loss: 1.6851 - val_accuracy: 0.5679 - val_loss: 1.9763\n",
            "Epoch 26/100\n",
            "\u001b[1m2/2\u001b[0m \u001b[32m━━━━━━━━━━━━━━━━━━━━\u001b[0m\u001b[37m\u001b[0m \u001b[1m0s\u001b[0m 115ms/step - accuracy: 0.6353 - loss: 1.6551 - val_accuracy: 0.5607 - val_loss: 1.9568\n",
            "Epoch 27/100\n",
            "\u001b[1m2/2\u001b[0m \u001b[32m━━━━━━━━━━━━━━━━━━━━\u001b[0m\u001b[37m\u001b[0m \u001b[1m0s\u001b[0m 119ms/step - accuracy: 0.6219 - loss: 1.6582 - val_accuracy: 0.5679 - val_loss: 1.9356\n",
            "Epoch 28/100\n",
            "\u001b[1m2/2\u001b[0m \u001b[32m━━━━━━━━━━━━━━━━━━━━\u001b[0m\u001b[37m\u001b[0m \u001b[1m0s\u001b[0m 110ms/step - accuracy: 0.6318 - loss: 1.6241 - val_accuracy: 0.5607 - val_loss: 1.9174\n",
            "Epoch 29/100\n",
            "\u001b[1m2/2\u001b[0m \u001b[32m━━━━━━━━━━━━━━━━━━━━\u001b[0m\u001b[37m\u001b[0m \u001b[1m0s\u001b[0m 155ms/step - accuracy: 0.6425 - loss: 1.5798 - val_accuracy: 0.5714 - val_loss: 1.8965\n",
            "Epoch 30/100\n",
            "\u001b[1m2/2\u001b[0m \u001b[32m━━━━━━━━━━━━━━━━━━━━\u001b[0m\u001b[37m\u001b[0m \u001b[1m0s\u001b[0m 140ms/step - accuracy: 0.6519 - loss: 1.5543 - val_accuracy: 0.5714 - val_loss: 1.8746\n",
            "Epoch 31/100\n",
            "\u001b[1m2/2\u001b[0m \u001b[32m━━━━━━━━━━━━━━━━━━━━\u001b[0m\u001b[37m\u001b[0m \u001b[1m0s\u001b[0m 110ms/step - accuracy: 0.6560 - loss: 1.5297 - val_accuracy: 0.5750 - val_loss: 1.8544\n",
            "Epoch 32/100\n",
            "\u001b[1m2/2\u001b[0m \u001b[32m━━━━━━━━━━━━━━━━━━━━\u001b[0m\u001b[37m\u001b[0m \u001b[1m0s\u001b[0m 149ms/step - accuracy: 0.6456 - loss: 1.5331 - val_accuracy: 0.5750 - val_loss: 1.8324\n",
            "Epoch 33/100\n",
            "\u001b[1m2/2\u001b[0m \u001b[32m━━━━━━━━━━━━━━━━━━━━\u001b[0m\u001b[37m\u001b[0m \u001b[1m0s\u001b[0m 110ms/step - accuracy: 0.6596 - loss: 1.4802 - val_accuracy: 0.5786 - val_loss: 1.8102\n",
            "Epoch 34/100\n",
            "\u001b[1m2/2\u001b[0m \u001b[32m━━━━━━━━━━━━━━━━━━━━\u001b[0m\u001b[37m\u001b[0m \u001b[1m0s\u001b[0m 121ms/step - accuracy: 0.6669 - loss: 1.4694 - val_accuracy: 0.5714 - val_loss: 1.7909\n",
            "Epoch 35/100\n",
            "\u001b[1m2/2\u001b[0m \u001b[32m━━━━━━━━━━━━━━━━━━━━\u001b[0m\u001b[37m\u001b[0m \u001b[1m0s\u001b[0m 200ms/step - accuracy: 0.6730 - loss: 1.4237 - val_accuracy: 0.5786 - val_loss: 1.7703\n",
            "Epoch 36/100\n",
            "\u001b[1m2/2\u001b[0m \u001b[32m━━━━━━━━━━━━━━━━━━━━\u001b[0m\u001b[37m\u001b[0m \u001b[1m0s\u001b[0m 209ms/step - accuracy: 0.6824 - loss: 1.4289 - val_accuracy: 0.5821 - val_loss: 1.7489\n",
            "Epoch 37/100\n",
            "\u001b[1m2/2\u001b[0m \u001b[32m━━━━━━━━━━━━━━━━━━━━\u001b[0m\u001b[37m\u001b[0m \u001b[1m1s\u001b[0m 199ms/step - accuracy: 0.6768 - loss: 1.4195 - val_accuracy: 0.5893 - val_loss: 1.7262\n",
            "Epoch 38/100\n",
            "\u001b[1m2/2\u001b[0m \u001b[32m━━━━━━━━━━━━━━━━━━━━\u001b[0m\u001b[37m\u001b[0m \u001b[1m0s\u001b[0m 176ms/step - accuracy: 0.6977 - loss: 1.3763 - val_accuracy: 0.5964 - val_loss: 1.7068\n",
            "Epoch 39/100\n",
            "\u001b[1m2/2\u001b[0m \u001b[32m━━━━━━━━━━━━━━━━━━━━\u001b[0m\u001b[37m\u001b[0m \u001b[1m0s\u001b[0m 203ms/step - accuracy: 0.6987 - loss: 1.3455 - val_accuracy: 0.5964 - val_loss: 1.6856\n",
            "Epoch 40/100\n",
            "\u001b[1m2/2\u001b[0m \u001b[32m━━━━━━━━━━━━━━━━━━━━\u001b[0m\u001b[37m\u001b[0m \u001b[1m0s\u001b[0m 204ms/step - accuracy: 0.6969 - loss: 1.3611 - val_accuracy: 0.6107 - val_loss: 1.6646\n",
            "Epoch 41/100\n",
            "\u001b[1m2/2\u001b[0m \u001b[32m━━━━━━━━━━━━━━━━━━━━\u001b[0m\u001b[37m\u001b[0m \u001b[1m0s\u001b[0m 222ms/step - accuracy: 0.7010 - loss: 1.3388 - val_accuracy: 0.6179 - val_loss: 1.6444\n",
            "Epoch 42/100\n",
            "\u001b[1m2/2\u001b[0m \u001b[32m━━━━━━━━━━━━━━━━━━━━\u001b[0m\u001b[37m\u001b[0m \u001b[1m0s\u001b[0m 108ms/step - accuracy: 0.7049 - loss: 1.3294 - val_accuracy: 0.6250 - val_loss: 1.6271\n",
            "Epoch 43/100\n",
            "\u001b[1m2/2\u001b[0m \u001b[32m━━━━━━━━━━━━━━━━━━━━\u001b[0m\u001b[37m\u001b[0m \u001b[1m0s\u001b[0m 117ms/step - accuracy: 0.7138 - loss: 1.2824 - val_accuracy: 0.6250 - val_loss: 1.6054\n",
            "Epoch 44/100\n",
            "\u001b[1m2/2\u001b[0m \u001b[32m━━━━━━━━━━━━━━━━━━━━\u001b[0m\u001b[37m\u001b[0m \u001b[1m0s\u001b[0m 109ms/step - accuracy: 0.7149 - loss: 1.2835 - val_accuracy: 0.6286 - val_loss: 1.5841\n",
            "Epoch 45/100\n",
            "\u001b[1m2/2\u001b[0m \u001b[32m━━━━━━━━━━━━━━━━━━━━\u001b[0m\u001b[37m\u001b[0m \u001b[1m0s\u001b[0m 138ms/step - accuracy: 0.7202 - loss: 1.2739 - val_accuracy: 0.6321 - val_loss: 1.5649\n",
            "Epoch 46/100\n",
            "\u001b[1m2/2\u001b[0m \u001b[32m━━━━━━━━━━━━━━━━━━━━\u001b[0m\u001b[37m\u001b[0m \u001b[1m0s\u001b[0m 122ms/step - accuracy: 0.7329 - loss: 1.2264 - val_accuracy: 0.6393 - val_loss: 1.5444\n",
            "Epoch 47/100\n",
            "\u001b[1m2/2\u001b[0m \u001b[32m━━━━━━━━━━━━━━━━━━━━\u001b[0m\u001b[37m\u001b[0m \u001b[1m0s\u001b[0m 112ms/step - accuracy: 0.7468 - loss: 1.1872 - val_accuracy: 0.6393 - val_loss: 1.5243\n",
            "Epoch 48/100\n",
            "\u001b[1m2/2\u001b[0m \u001b[32m━━━━━━━━━━━━━━━━━━━━\u001b[0m\u001b[37m\u001b[0m \u001b[1m0s\u001b[0m 143ms/step - accuracy: 0.7489 - loss: 1.1593 - val_accuracy: 0.6429 - val_loss: 1.5019\n",
            "Epoch 49/100\n",
            "\u001b[1m2/2\u001b[0m \u001b[32m━━━━━━━━━━━━━━━━━━━━\u001b[0m\u001b[37m\u001b[0m \u001b[1m0s\u001b[0m 109ms/step - accuracy: 0.7503 - loss: 1.1607 - val_accuracy: 0.6464 - val_loss: 1.4799\n",
            "Epoch 50/100\n",
            "\u001b[1m2/2\u001b[0m \u001b[32m━━━━━━━━━━━━━━━━━━━━\u001b[0m\u001b[37m\u001b[0m \u001b[1m0s\u001b[0m 109ms/step - accuracy: 0.7612 - loss: 1.1287 - val_accuracy: 0.6500 - val_loss: 1.4580\n",
            "Epoch 51/100\n",
            "\u001b[1m2/2\u001b[0m \u001b[32m━━━━━━━━━━━━━━━━━━━━\u001b[0m\u001b[37m\u001b[0m \u001b[1m0s\u001b[0m 139ms/step - accuracy: 0.7566 - loss: 1.1385 - val_accuracy: 0.6607 - val_loss: 1.4369\n",
            "Epoch 52/100\n",
            "\u001b[1m2/2\u001b[0m \u001b[32m━━━━━━━━━━━━━━━━━━━━\u001b[0m\u001b[37m\u001b[0m \u001b[1m0s\u001b[0m 113ms/step - accuracy: 0.7616 - loss: 1.1397 - val_accuracy: 0.6429 - val_loss: 1.4182\n",
            "Epoch 53/100\n",
            "\u001b[1m2/2\u001b[0m \u001b[32m━━━━━━━━━━━━━━━━━━━━\u001b[0m\u001b[37m\u001b[0m \u001b[1m0s\u001b[0m 115ms/step - accuracy: 0.7602 - loss: 1.1010 - val_accuracy: 0.6643 - val_loss: 1.3963\n",
            "Epoch 54/100\n",
            "\u001b[1m2/2\u001b[0m \u001b[32m━━━━━━━━━━━━━━━━━━━━\u001b[0m\u001b[37m\u001b[0m \u001b[1m0s\u001b[0m 108ms/step - accuracy: 0.7748 - loss: 1.0697 - val_accuracy: 0.6607 - val_loss: 1.3747\n",
            "Epoch 55/100\n",
            "\u001b[1m2/2\u001b[0m \u001b[32m━━━━━━━━━━━━━━━━━━━━\u001b[0m\u001b[37m\u001b[0m \u001b[1m0s\u001b[0m 107ms/step - accuracy: 0.7772 - loss: 1.0392 - val_accuracy: 0.6643 - val_loss: 1.3557\n",
            "Epoch 56/100\n",
            "\u001b[1m2/2\u001b[0m \u001b[32m━━━━━━━━━━━━━━━━━━━━\u001b[0m\u001b[37m\u001b[0m \u001b[1m0s\u001b[0m 109ms/step - accuracy: 0.7680 - loss: 1.0907 - val_accuracy: 0.6714 - val_loss: 1.3322\n",
            "Epoch 57/100\n",
            "\u001b[1m2/2\u001b[0m \u001b[32m━━━━━━━━━━━━━━━━━━━━\u001b[0m\u001b[37m\u001b[0m \u001b[1m0s\u001b[0m 111ms/step - accuracy: 0.7851 - loss: 1.0196 - val_accuracy: 0.6750 - val_loss: 1.3120\n",
            "Epoch 58/100\n",
            "\u001b[1m2/2\u001b[0m \u001b[32m━━━━━━━━━━━━━━━━━━━━\u001b[0m\u001b[37m\u001b[0m \u001b[1m0s\u001b[0m 108ms/step - accuracy: 0.7791 - loss: 1.0214 - val_accuracy: 0.6821 - val_loss: 1.2915\n",
            "Epoch 59/100\n",
            "\u001b[1m2/2\u001b[0m \u001b[32m━━━━━━━━━━━━━━━━━━━━\u001b[0m\u001b[37m\u001b[0m \u001b[1m0s\u001b[0m 112ms/step - accuracy: 0.7971 - loss: 0.9702 - val_accuracy: 0.6893 - val_loss: 1.2705\n",
            "Epoch 60/100\n",
            "\u001b[1m2/2\u001b[0m \u001b[32m━━━━━━━━━━━━━━━━━━━━\u001b[0m\u001b[37m\u001b[0m \u001b[1m0s\u001b[0m 129ms/step - accuracy: 0.7939 - loss: 0.9664 - val_accuracy: 0.7036 - val_loss: 1.2502\n",
            "Epoch 61/100\n",
            "\u001b[1m2/2\u001b[0m \u001b[32m━━━━━━━━━━━━━━━━━━━━\u001b[0m\u001b[37m\u001b[0m \u001b[1m0s\u001b[0m 111ms/step - accuracy: 0.8053 - loss: 0.9584 - val_accuracy: 0.7036 - val_loss: 1.2299\n",
            "Epoch 62/100\n",
            "\u001b[1m2/2\u001b[0m \u001b[32m━━━━━━━━━━━━━━━━━━━━\u001b[0m\u001b[37m\u001b[0m \u001b[1m0s\u001b[0m 112ms/step - accuracy: 0.8019 - loss: 0.9530 - val_accuracy: 0.7286 - val_loss: 1.2095\n",
            "Epoch 63/100\n",
            "\u001b[1m2/2\u001b[0m \u001b[32m━━━━━━━━━━━━━━━━━━━━\u001b[0m\u001b[37m\u001b[0m \u001b[1m0s\u001b[0m 107ms/step - accuracy: 0.8050 - loss: 0.9258 - val_accuracy: 0.7214 - val_loss: 1.1884\n",
            "Epoch 64/100\n",
            "\u001b[1m2/2\u001b[0m \u001b[32m━━━━━━━━━━━━━━━━━━━━\u001b[0m\u001b[37m\u001b[0m \u001b[1m0s\u001b[0m 140ms/step - accuracy: 0.8072 - loss: 0.9203 - val_accuracy: 0.7286 - val_loss: 1.1690\n",
            "Epoch 65/100\n",
            "\u001b[1m2/2\u001b[0m \u001b[32m━━━━━━━━━━━━━━━━━━━━\u001b[0m\u001b[37m\u001b[0m \u001b[1m0s\u001b[0m 111ms/step - accuracy: 0.8073 - loss: 0.8955 - val_accuracy: 0.7286 - val_loss: 1.1501\n",
            "Epoch 66/100\n",
            "\u001b[1m2/2\u001b[0m \u001b[32m━━━━━━━━━━━━━━━━━━━━\u001b[0m\u001b[37m\u001b[0m \u001b[1m0s\u001b[0m 112ms/step - accuracy: 0.8141 - loss: 0.8690 - val_accuracy: 0.7429 - val_loss: 1.1302\n",
            "Epoch 67/100\n",
            "\u001b[1m2/2\u001b[0m \u001b[32m━━━━━━━━━━━━━━━━━━━━\u001b[0m\u001b[37m\u001b[0m \u001b[1m0s\u001b[0m 110ms/step - accuracy: 0.8131 - loss: 0.8677 - val_accuracy: 0.7429 - val_loss: 1.1117\n",
            "Epoch 68/100\n",
            "\u001b[1m2/2\u001b[0m \u001b[32m━━━━━━━━━━━━━━━━━━━━\u001b[0m\u001b[37m\u001b[0m \u001b[1m0s\u001b[0m 148ms/step - accuracy: 0.8186 - loss: 0.8446 - val_accuracy: 0.7464 - val_loss: 1.0932\n",
            "Epoch 69/100\n",
            "\u001b[1m2/2\u001b[0m \u001b[32m━━━━━━━━━━━━━━━━━━━━\u001b[0m\u001b[37m\u001b[0m \u001b[1m0s\u001b[0m 141ms/step - accuracy: 0.8212 - loss: 0.8397 - val_accuracy: 0.7571 - val_loss: 1.0744\n",
            "Epoch 70/100\n",
            "\u001b[1m2/2\u001b[0m \u001b[32m━━━━━━━━━━━━━━━━━━━━\u001b[0m\u001b[37m\u001b[0m \u001b[1m0s\u001b[0m 114ms/step - accuracy: 0.8331 - loss: 0.8188 - val_accuracy: 0.7571 - val_loss: 1.0558\n",
            "Epoch 71/100\n",
            "\u001b[1m2/2\u001b[0m \u001b[32m━━━━━━━━━━━━━━━━━━━━\u001b[0m\u001b[37m\u001b[0m \u001b[1m0s\u001b[0m 111ms/step - accuracy: 0.8401 - loss: 0.7804 - val_accuracy: 0.7643 - val_loss: 1.0379\n",
            "Epoch 72/100\n",
            "\u001b[1m2/2\u001b[0m \u001b[32m━━━━━━━━━━━━━━━━━━━━\u001b[0m\u001b[37m\u001b[0m \u001b[1m0s\u001b[0m 115ms/step - accuracy: 0.8304 - loss: 0.8077 - val_accuracy: 0.7714 - val_loss: 1.0203\n",
            "Epoch 73/100\n",
            "\u001b[1m2/2\u001b[0m \u001b[32m━━━━━━━━━━━━━━━━━━━━\u001b[0m\u001b[37m\u001b[0m \u001b[1m0s\u001b[0m 125ms/step - accuracy: 0.8381 - loss: 0.7900 - val_accuracy: 0.7750 - val_loss: 1.0030\n",
            "Epoch 74/100\n",
            "\u001b[1m2/2\u001b[0m \u001b[32m━━━━━━━━━━━━━━━━━━━━\u001b[0m\u001b[37m\u001b[0m \u001b[1m0s\u001b[0m 122ms/step - accuracy: 0.8413 - loss: 0.7751 - val_accuracy: 0.7750 - val_loss: 0.9887\n",
            "Epoch 75/100\n",
            "\u001b[1m2/2\u001b[0m \u001b[32m━━━━━━━━━━━━━━━━━━━━\u001b[0m\u001b[37m\u001b[0m \u001b[1m0s\u001b[0m 111ms/step - accuracy: 0.8420 - loss: 0.7399 - val_accuracy: 0.7786 - val_loss: 0.9695\n",
            "Epoch 76/100\n",
            "\u001b[1m2/2\u001b[0m \u001b[32m━━━━━━━━━━━━━━━━━━━━\u001b[0m\u001b[37m\u001b[0m \u001b[1m0s\u001b[0m 110ms/step - accuracy: 0.8508 - loss: 0.7364 - val_accuracy: 0.7857 - val_loss: 0.9523\n",
            "Epoch 77/100\n",
            "\u001b[1m2/2\u001b[0m \u001b[32m━━━━━━━━━━━━━━━━━━━━\u001b[0m\u001b[37m\u001b[0m \u001b[1m0s\u001b[0m 116ms/step - accuracy: 0.8505 - loss: 0.7187 - val_accuracy: 0.8000 - val_loss: 0.9371\n",
            "Epoch 78/100\n",
            "\u001b[1m2/2\u001b[0m \u001b[32m━━━━━━━━━━━━━━━━━━━━\u001b[0m\u001b[37m\u001b[0m \u001b[1m0s\u001b[0m 111ms/step - accuracy: 0.8570 - loss: 0.7135 - val_accuracy: 0.7857 - val_loss: 0.9185\n",
            "Epoch 79/100\n",
            "\u001b[1m2/2\u001b[0m \u001b[32m━━━━━━━━━━━━━━━━━━━━\u001b[0m\u001b[37m\u001b[0m \u001b[1m0s\u001b[0m 110ms/step - accuracy: 0.8578 - loss: 0.6939 - val_accuracy: 0.8036 - val_loss: 0.9018\n",
            "Epoch 80/100\n",
            "\u001b[1m2/2\u001b[0m \u001b[32m━━━━━━━━━━━━━━━━━━━━\u001b[0m\u001b[37m\u001b[0m \u001b[1m0s\u001b[0m 156ms/step - accuracy: 0.8645 - loss: 0.6771 - val_accuracy: 0.8143 - val_loss: 0.8867\n",
            "Epoch 81/100\n",
            "\u001b[1m2/2\u001b[0m \u001b[32m━━━━━━━━━━━━━━━━━━━━\u001b[0m\u001b[37m\u001b[0m \u001b[1m0s\u001b[0m 121ms/step - accuracy: 0.8630 - loss: 0.6751 - val_accuracy: 0.8036 - val_loss: 0.8711\n",
            "Epoch 82/100\n",
            "\u001b[1m2/2\u001b[0m \u001b[32m━━━━━━━━━━━━━━━━━━━━\u001b[0m\u001b[37m\u001b[0m \u001b[1m0s\u001b[0m 163ms/step - accuracy: 0.8605 - loss: 0.6733 - val_accuracy: 0.8250 - val_loss: 0.8553\n",
            "Epoch 83/100\n",
            "\u001b[1m2/2\u001b[0m \u001b[32m━━━━━━━━━━━━━━━━━━━━\u001b[0m\u001b[37m\u001b[0m \u001b[1m0s\u001b[0m 201ms/step - accuracy: 0.8724 - loss: 0.6582 - val_accuracy: 0.8250 - val_loss: 0.8385\n",
            "Epoch 84/100\n",
            "\u001b[1m2/2\u001b[0m \u001b[32m━━━━━━━━━━━━━━━━━━━━\u001b[0m\u001b[37m\u001b[0m \u001b[1m0s\u001b[0m 291ms/step - accuracy: 0.8738 - loss: 0.6438 - val_accuracy: 0.8536 - val_loss: 0.8224\n",
            "Epoch 85/100\n",
            "\u001b[1m2/2\u001b[0m \u001b[32m━━━━━━━━━━━━━━━━━━━━\u001b[0m\u001b[37m\u001b[0m \u001b[1m0s\u001b[0m 200ms/step - accuracy: 0.8848 - loss: 0.6153 - val_accuracy: 0.8464 - val_loss: 0.8074\n",
            "Epoch 86/100\n",
            "\u001b[1m2/2\u001b[0m \u001b[32m━━━━━━━━━━━━━━━━━━━━\u001b[0m\u001b[37m\u001b[0m \u001b[1m1s\u001b[0m 222ms/step - accuracy: 0.8863 - loss: 0.6235 - val_accuracy: 0.8571 - val_loss: 0.7924\n",
            "Epoch 87/100\n",
            "\u001b[1m2/2\u001b[0m \u001b[32m━━━━━━━━━━━━━━━━━━━━\u001b[0m\u001b[37m\u001b[0m \u001b[1m0s\u001b[0m 207ms/step - accuracy: 0.8934 - loss: 0.6032 - val_accuracy: 0.8643 - val_loss: 0.7773\n",
            "Epoch 88/100\n",
            "\u001b[1m2/2\u001b[0m \u001b[32m━━━━━━━━━━━━━━━━━━━━\u001b[0m\u001b[37m\u001b[0m \u001b[1m0s\u001b[0m 111ms/step - accuracy: 0.8968 - loss: 0.5778 - val_accuracy: 0.8750 - val_loss: 0.7627\n",
            "Epoch 89/100\n",
            "\u001b[1m2/2\u001b[0m \u001b[32m━━━━━━━━━━━━━━━━━━━━\u001b[0m\u001b[37m\u001b[0m \u001b[1m0s\u001b[0m 111ms/step - accuracy: 0.8913 - loss: 0.5824 - val_accuracy: 0.8750 - val_loss: 0.7483\n",
            "Epoch 90/100\n",
            "\u001b[1m2/2\u001b[0m \u001b[32m━━━━━━━━━━━━━━━━━━━━\u001b[0m\u001b[37m\u001b[0m \u001b[1m0s\u001b[0m 111ms/step - accuracy: 0.8974 - loss: 0.5788 - val_accuracy: 0.8786 - val_loss: 0.7334\n",
            "Epoch 91/100\n",
            "\u001b[1m2/2\u001b[0m \u001b[32m━━━━━━━━━━━━━━━━━━━━\u001b[0m\u001b[37m\u001b[0m \u001b[1m0s\u001b[0m 142ms/step - accuracy: 0.9013 - loss: 0.5562 - val_accuracy: 0.8821 - val_loss: 0.7189\n",
            "Epoch 92/100\n",
            "\u001b[1m2/2\u001b[0m \u001b[32m━━━━━━━━━━━━━━━━━━━━\u001b[0m\u001b[37m\u001b[0m \u001b[1m0s\u001b[0m 161ms/step - accuracy: 0.9051 - loss: 0.5729 - val_accuracy: 0.8893 - val_loss: 0.7050\n",
            "Epoch 93/100\n",
            "\u001b[1m2/2\u001b[0m \u001b[32m━━━━━━━━━━━━━━━━━━━━\u001b[0m\u001b[37m\u001b[0m \u001b[1m0s\u001b[0m 114ms/step - accuracy: 0.9084 - loss: 0.5528 - val_accuracy: 0.8929 - val_loss: 0.6913\n",
            "Epoch 94/100\n",
            "\u001b[1m2/2\u001b[0m \u001b[32m━━━━━━━━━━━━━━━━━━━━\u001b[0m\u001b[37m\u001b[0m \u001b[1m0s\u001b[0m 113ms/step - accuracy: 0.9142 - loss: 0.5355 - val_accuracy: 0.8929 - val_loss: 0.6790\n",
            "Epoch 95/100\n",
            "\u001b[1m2/2\u001b[0m \u001b[32m━━━━━━━━━━━━━━━━━━━━\u001b[0m\u001b[37m\u001b[0m \u001b[1m0s\u001b[0m 114ms/step - accuracy: 0.9117 - loss: 0.5388 - val_accuracy: 0.8929 - val_loss: 0.6662\n",
            "Epoch 96/100\n",
            "\u001b[1m2/2\u001b[0m \u001b[32m━━━━━━━━━━━━━━━━━━━━\u001b[0m\u001b[37m\u001b[0m \u001b[1m0s\u001b[0m 141ms/step - accuracy: 0.9216 - loss: 0.5090 - val_accuracy: 0.8964 - val_loss: 0.6541\n",
            "Epoch 97/100\n",
            "\u001b[1m2/2\u001b[0m \u001b[32m━━━━━━━━━━━━━━━━━━━━\u001b[0m\u001b[37m\u001b[0m \u001b[1m0s\u001b[0m 111ms/step - accuracy: 0.9194 - loss: 0.5117 - val_accuracy: 0.8929 - val_loss: 0.6419\n",
            "Epoch 98/100\n",
            "\u001b[1m2/2\u001b[0m \u001b[32m━━━━━━━━━━━━━━━━━━━━\u001b[0m\u001b[37m\u001b[0m \u001b[1m0s\u001b[0m 108ms/step - accuracy: 0.9172 - loss: 0.5092 - val_accuracy: 0.8964 - val_loss: 0.6306\n",
            "Epoch 99/100\n",
            "\u001b[1m2/2\u001b[0m \u001b[32m━━━━━━━━━━━━━━━━━━━━\u001b[0m\u001b[37m\u001b[0m \u001b[1m0s\u001b[0m 113ms/step - accuracy: 0.9221 - loss: 0.4930 - val_accuracy: 0.9000 - val_loss: 0.6187\n",
            "Epoch 100/100\n",
            "\u001b[1m2/2\u001b[0m \u001b[32m━━━━━━━━━━━━━━━━━━━━\u001b[0m\u001b[37m\u001b[0m \u001b[1m0s\u001b[0m 131ms/step - accuracy: 0.9279 - loss: 0.4717 - val_accuracy: 0.9000 - val_loss: 0.6077\n"
          ]
        }
      ]
    },
    {
      "cell_type": "markdown",
      "source": [
        "# Step 6: User Interface for Interaction"
      ],
      "metadata": {
        "id": "ahUdbnZteQv7"
      }
    },
    {
      "cell_type": "code",
      "source": [
        "def predict_response(user_input):\n",
        "    # Encode the input sequence\n",
        "    seq = tokenizer.texts_to_sequences([user_input])\n",
        "    seq = pad_sequences(seq, maxlen=X.shape[1], padding='post')  # Shape: (1, 4)\n",
        "\n",
        "    # Initialize the decoder input with the <start> token\n",
        "    decoder_input = np.zeros((1, y.shape[1]))  # Shape: (1, 20)\n",
        "    decoder_input[0, 0] = tokenizer.word_index['<start>']  # Set the first token to <start>\n",
        "\n",
        "    # Generate the response word by word\n",
        "    response = []\n",
        "    for i in range(y.shape[1] - 1):  # Iterate over the sequence length\n",
        "        prediction = model.predict([seq, decoder_input], verbose=0)  # Predict the next word\n",
        "        predicted_index = np.argmax(prediction[0, i, :])  # Get the predicted word index\n",
        "\n",
        "        # Stop if <end> token is predicted\n",
        "        if predicted_index == tokenizer.word_index['<end>']:\n",
        "            break\n",
        "\n",
        "        # Skip padding tokens (0)\n",
        "        if predicted_index == 0:\n",
        "            continue\n",
        "\n",
        "        # Append the predicted word\n",
        "        response.append(tokenizer.index_word[predicted_index])\n",
        "\n",
        "        # Update the decoder input\n",
        "        decoder_input[0, i + 1] = predicted_index\n",
        "\n",
        "    return ' '.join(response)"
      ],
      "metadata": {
        "id": "A9dOGHtleGTL"
      },
      "execution_count": 151,
      "outputs": []
    },
    {
      "cell_type": "code",
      "source": [
        "print(\"\\nGame Started! Type 'exit' to quit.\")\n",
        "while True:\n",
        "    user_input = input(\"You: \")\n",
        "    if user_input.lower() == 'exit':\n",
        "        break\n",
        "    response = predict_response(user_input)\n",
        "    print(\"Bot:\", response)"
      ],
      "metadata": {
        "colab": {
          "base_uri": "https://localhost:8080/"
        },
        "id": "38t4eSoIeWNf",
        "outputId": "509c6ccf-9351-471d-a387-83f5dd88d781"
      },
      "execution_count": 154,
      "outputs": [
        {
          "name": "stdout",
          "output_type": "stream",
          "text": [
            "\n",
            "Game Started! Type 'exit' to quit.\n",
            "You: start\n",
            "Bot: you find a hidden passage behind a bookshelf do you 'enter' or 'ignore' it\n",
            "You: enter\n",
            "Bot: the passage leads to a dark dungeon do you 'explore' or 'turn back'\n",
            "You: explore\n",
            "Bot: you find a hidden passage behind a bookshelf do you 'enter' or 'ignore' it\n",
            "You: enter\n",
            "Bot: the passage leads to a dark dungeon do you 'explore' or 'turn back'\n",
            "You: exit\n"
          ]
        }
      ]
    }
  ]
}